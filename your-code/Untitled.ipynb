{
 "cells": [
  {
   "cell_type": "code",
   "execution_count": null,
   "id": "0e1fecb3",
   "metadata": {},
   "outputs": [],
   "source": [
    "## Write a function that will reverse a certain string\n",
    "\n",
    "#input = \"hello\"\n",
    "\n",
    "#output = \"olleh\""
   ]
  },
  {
   "cell_type": "code",
   "execution_count": 1,
   "id": "8e80834b",
   "metadata": {},
   "outputs": [],
   "source": [
    "def reverse_string(input_string):\n",
    "    return input_string[::-1]\n"
   ]
  },
  {
   "cell_type": "code",
   "execution_count": 2,
   "id": "58047adc",
   "metadata": {},
   "outputs": [
    {
     "name": "stdout",
     "output_type": "stream",
     "text": [
      "olleh\n"
     ]
    }
   ],
   "source": [
    "input_string = \"hello\"\n",
    "print(reverse_string(input_string))\n"
   ]
  },
  {
   "cell_type": "code",
   "execution_count": 3,
   "id": "4810ffa9",
   "metadata": {},
   "outputs": [],
   "source": [
    "def reverse_string(input_string):\n",
    "    return input_string[::-1]"
   ]
  },
  {
   "cell_type": "code",
   "execution_count": 8,
   "id": "dc78652f",
   "metadata": {},
   "outputs": [
    {
     "name": "stdout",
     "output_type": "stream",
     "text": [
      "hello\n"
     ]
    }
   ],
   "source": [
    "input_string =\"olleh\"\n",
    "print(reverse_string(input_string))"
   ]
  },
  {
   "cell_type": "code",
   "execution_count": null,
   "id": "0f405dec",
   "metadata": {},
   "outputs": [],
   "source": []
  }
 ],
 "metadata": {
  "kernelspec": {
   "display_name": "Python 3 (ipykernel)",
   "language": "python",
   "name": "python3"
  },
  "language_info": {
   "codemirror_mode": {
    "name": "ipython",
    "version": 3
   },
   "file_extension": ".py",
   "mimetype": "text/x-python",
   "name": "python",
   "nbconvert_exporter": "python",
   "pygments_lexer": "ipython3",
   "version": "3.9.13"
  }
 },
 "nbformat": 4,
 "nbformat_minor": 5
}
